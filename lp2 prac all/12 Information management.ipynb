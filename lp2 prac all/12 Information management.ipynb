{
 "cells": [
  {
   "cell_type": "code",
   "execution_count": 2,
   "id": "5ac3e8e6",
   "metadata": {},
   "outputs": [
    {
     "name": "stdout",
     "output_type": "stream",
     "text": [
      "Customer: Alice\n",
      "Recommendation: No specific action recommended for the customer.\n",
      "----------------------\n",
      "Customer: Bob\n",
      "Recommendation: Action: Verify parental consent for the customer.\n",
      "----------------------\n"
     ]
    }
   ],
   "source": [
    "class Customer:\n",
    "    def __init__(self, name, age, email, phone):\n",
    "        self.name = name\n",
    "        self.age = age\n",
    "        self.email = email\n",
    "        self.phone = phone\n",
    "\n",
    "class ExpertSystem:\n",
    "    def __init__(self):\n",
    "        self.customers = []\n",
    "\n",
    "    def add_customer(self, customer):\n",
    "        self.customers.append(customer)\n",
    "\n",
    "    def recommend_action(self, customer):\n",
    "        if customer.age < 18:\n",
    "            return \"Action: Verify parental consent for the customer.\"\n",
    "        elif customer.age >= 18 and customer.email == \"\":\n",
    "            return \"Action: Collect the customer's email address.\"\n",
    "        elif customer.age >= 18 and customer.phone == \"\":\n",
    "            return \"Action: Collect the customer's phone number.\"\n",
    "        else:\n",
    "            return \"No specific action recommended for the customer.\"\n",
    "\n",
    "# Create an instance of the expert system\n",
    "system = ExpertSystem()\n",
    "\n",
    "# Add customers to the system\n",
    "customer1 = Customer(\"Alice\", 25, \"alice@example.com\", \"123456789\")\n",
    "customer2 = Customer(\"Bob\", 17, \"\", \"987654321\")\n",
    "\n",
    "system.add_customer(customer1)\n",
    "system.add_customer(customer2)\n",
    "\n",
    "# Get recommendations for each customer\n",
    "for customer in system.customers:\n",
    "    recommendation = system.recommend_action(customer)\n",
    "    print(f\"Customer: {customer.name}\")\n",
    "    print(f\"Recommendation: {recommendation}\")\n",
    "    print(\"----------------------\")\n"
   ]
  },
  {
   "cell_type": "code",
   "execution_count": null,
   "id": "8d9bb0aa",
   "metadata": {},
   "outputs": [],
   "source": [
    "haa"
   ]
  }
 ],
 "metadata": {
  "kernelspec": {
   "display_name": "Python 3 (ipykernel)",
   "language": "python",
   "name": "python3"
  },
  "language_info": {
   "codemirror_mode": {
    "name": "ipython",
    "version": 3
   },
   "file_extension": ".py",
   "mimetype": "text/x-python",
   "name": "python",
   "nbconvert_exporter": "python",
   "pygments_lexer": "ipython3",
   "version": "3.10.9"
  }
 },
 "nbformat": 4,
 "nbformat_minor": 5
}
