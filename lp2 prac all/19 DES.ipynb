{
 "cells": [
  {
   "cell_type": "code",
   "execution_count": 1,
   "id": "443cba77",
   "metadata": {},
   "outputs": [
    {
     "name": "stdout",
     "output_type": "stream",
     "text": [
      "Requirement already satisfied: pycryptodome in e:\\anaconda3\\lib\\site-packages (3.18.0)\n",
      "Note: you may need to restart the kernel to use updated packages.\n"
     ]
    }
   ],
   "source": [
    "pip install pycryptodome"
   ]
  },
  {
   "cell_type": "code",
   "execution_count": 3,
   "id": "85afa520",
   "metadata": {},
   "outputs": [
    {
     "name": "stdout",
     "output_type": "stream",
     "text": [
      "Original Message: b'Hello, DES!'\n",
      "Encrypted Data: b'!\\x19W\\x9e\\xc47+.JQ\\xfe~\\xb0\\x03kw'\n",
      "Decrypted Message: b'Hello, DES!'\n"
     ]
    }
   ],
   "source": [
    "from Crypto.Cipher import DES\n",
    "from Crypto.Util.Padding import pad, unpad\n",
    "from Crypto.Random import get_random_bytes\n",
    "\n",
    "def encrypt_DES(key, data):\n",
    "    cipher = DES.new(key, DES.MODE_ECB)\n",
    "    ciphertext = cipher.encrypt(pad(data, DES.block_size))\n",
    "    return ciphertext\n",
    "\n",
    "def decrypt_DES(key, data):\n",
    "    cipher = DES.new(key, DES.MODE_ECB)\n",
    "    plaintext = unpad(cipher.decrypt(data), DES.block_size)\n",
    "    return plaintext\n",
    "\n",
    "key = get_random_bytes(8)  # 8 bytes = 64 bits\n",
    "message = b\"Hello, DES!\"\n",
    "\n",
    "encrypted_data = encrypt_DES(key, message)\n",
    "decrypted_data = decrypt_DES(key, encrypted_data)\n",
    "\n",
    "print(\"Original Message:\", message)\n",
    "print(\"Encrypted Data:\", encrypted_data)\n",
    "print(\"Decrypted Message:\", decrypted_data)"
   ]
  },
  {
   "cell_type": "code",
   "execution_count": null,
   "id": "e3b2e08c",
   "metadata": {},
   "outputs": [],
   "source": []
  }
 ],
 "metadata": {
  "kernelspec": {
   "display_name": "Python 3 (ipykernel)",
   "language": "python",
   "name": "python3"
  },
  "language_info": {
   "codemirror_mode": {
    "name": "ipython",
    "version": 3
   },
   "file_extension": ".py",
   "mimetype": "text/x-python",
   "name": "python",
   "nbconvert_exporter": "python",
   "pygments_lexer": "ipython3",
   "version": "3.10.9"
  }
 },
 "nbformat": 4,
 "nbformat_minor": 5
}
