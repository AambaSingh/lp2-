{
 "cells": [
  {
   "cell_type": "code",
   "execution_count": 1,
   "id": "e4ece171",
   "metadata": {},
   "outputs": [
    {
     "name": "stdout",
     "output_type": "stream",
     "text": [
      "Collecting pycryptodome\n",
      "  Downloading pycryptodome-3.18.0-cp35-abi3-win_amd64.whl (1.7 MB)\n",
      "     ---------------------------------------- 1.7/1.7 MB 599.8 kB/s eta 0:00:00\n",
      "Installing collected packages: pycryptodome\n",
      "Successfully installed pycryptodome-3.18.0\n",
      "Note: you may need to restart the kernel to use updated packages.\n"
     ]
    }
   ],
   "source": [
    "pip install pycryptodome"
   ]
  },
  {
   "cell_type": "code",
   "execution_count": 1,
   "id": "fe845f3f",
   "metadata": {},
   "outputs": [
    {
     "name": "stdout",
     "output_type": "stream",
     "text": [
      "Original Message: b'Hello, AES!'\n",
      "Encrypted Data: b'F\\xf0\\xcf\\x8d\\x85!\\xcf\\xca\\xab\\xc21\\x08\\xce}\\x82\\x96\\x01\\xf1\\xdd\\x96\\xdco\\x81$+<\\xce\\xe6\\x91\\xa5G\\xb4'\n",
      "Decrypted Message: b'Hello, AES!'\n"
     ]
    }
   ],
   "source": [
    "from Crypto.Cipher import AES\n",
    "from Crypto.Util.Padding import pad, unpad\n",
    "from Crypto.Random import get_random_bytes\n",
    "\n",
    "def encrypt_AES(key, data):\n",
    "    cipher = AES.new(key, AES.MODE_CBC)\n",
    "    ciphertext = cipher.encrypt(pad(data, AES.block_size))\n",
    "    return cipher.iv + ciphertext\n",
    "\n",
    "def decrypt_AES(key, data):\n",
    "    iv = data[:AES.block_size]\n",
    "    ciphertext = data[AES.block_size:]\n",
    "    cipher = AES.new(key, AES.MODE_CBC, iv)\n",
    "    plaintext = unpad(cipher.decrypt(ciphertext), AES.block_size)\n",
    "    return plaintext\n",
    "\n",
    "key = get_random_bytes(16)  # 16 bytes = 128 bits\n",
    "message = b\"Hello, AES!\"\n",
    "\n",
    "encrypted_data = encrypt_AES(key, message)\n",
    "decrypted_data = decrypt_AES(key, encrypted_data)\n",
    "\n",
    "print(\"Original Message:\", message)\n",
    "print(\"Encrypted Data:\", encrypted_data)\n",
    "print(\"Decrypted Message:\", decrypted_data)"
   ]
  },
  {
   "cell_type": "code",
   "execution_count": null,
   "id": "0dfd4249",
   "metadata": {},
   "outputs": [],
   "source": []
  }
 ],
 "metadata": {
  "kernelspec": {
   "display_name": "Python 3 (ipykernel)",
   "language": "python",
   "name": "python3"
  },
  "language_info": {
   "codemirror_mode": {
    "name": "ipython",
    "version": 3
   },
   "file_extension": ".py",
   "mimetype": "text/x-python",
   "name": "python",
   "nbconvert_exporter": "python",
   "pygments_lexer": "ipython3",
   "version": "3.10.9"
  }
 },
 "nbformat": 4,
 "nbformat_minor": 5
}
